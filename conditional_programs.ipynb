{
 "cells": [
  {
   "cell_type": "markdown",
   "id": "5062837b",
   "metadata": {},
   "source": [
    "## Write a program in python to check whether the given number  is Even or Odd "
   ]
  },
  {
   "cell_type": "code",
   "execution_count": null,
   "id": "c3842806",
   "metadata": {},
   "outputs": [
    {
     "name": "stdout",
     "output_type": "stream",
     "text": [
      "12 is an even number.\n"
     ]
    }
   ],
   "source": [
    "\n",
    "# Input number from the user\n",
    "num = int(input(\"Enter a number: \"))_\n",
    "# Check if the number is even or odd\n",
    "if num % 2 == 0:\n",
    "     print(f\"{num} is an even number.\")\n",
    "else:\n",
    "    print(f\"{num} is an odd number.\")\n",
    "__\n"
   ]
  },
  {
   "cell_type": "markdown",
   "id": "18ae630f",
   "metadata": {},
   "source": [
    "## write a Python program that checks if a number is positive, negative, or zero:"
   ]
  },
  {
   "cell_type": "markdown",
   "id": "5033de8d",
   "metadata": {},
   "source": []
  },
  {
   "cell_type": "code",
   "execution_count": 7,
   "id": "0b9c14be",
   "metadata": {},
   "outputs": [
    {
     "name": "stdout",
     "output_type": "stream",
     "text": [
      "The number is positive.\n"
     ]
    }
   ],
   "source": [
    "# Input number from the user\n",
    "num = float(input(\"Enter a number: \"))\n",
    "\n",
    "# Conditional statements to check the number\n",
    "if num > 0:\n",
    "    print(\"The number is positive.\")\n",
    "elif num < 0:\n",
    "    print(\"The number is negative.\")\n",
    "else:\n",
    "    print(\"The number is zero.\")\n"
   ]
  },
  {
   "cell_type": "markdown",
   "id": "f9763e37",
   "metadata": {},
   "source": [
    "## Grade Evaluation"
   ]
  },
  {
   "cell_type": "code",
   "execution_count": null,
   "id": "0a8e51b4",
   "metadata": {},
   "outputs": [
    {
     "name": "stdout",
     "output_type": "stream",
     "text": [
      "Grade: F\n"
     ]
    }
   ],
   "source": [
    "\n",
    "# Input score from the user\n",
    "score = float(input(\"Enter your score: \"))\n",
    "\n",
    "# Check the grade\n",
    "if score >= 90:\n",
    "    print(\"Grade: A\")\n",
    "elif score >= 80:\n",
    "    print(\"Grade: B\")\n",
    "elif score >= 70:\n",
    "    print(\"Grade: C\")\n",
    "elif score >= 60:\n",
    "    print(\"Grade: D\")\n",
    "else:\n",
    "    print(\"Grade: F\")\n"
   ]
  },
  {
   "cell_type": "markdown",
   "id": "8edf9282",
   "metadata": {},
   "source": [
    "## Simple Divisibility Check"
   ]
  },
  {
   "cell_type": "code",
   "execution_count": 9,
   "id": "117280d3",
   "metadata": {},
   "outputs": [
    {
     "name": "stdout",
     "output_type": "stream",
     "text": [
      "45 is divisible by 5.\n"
     ]
    }
   ],
   "source": [
    "\n",
    "# Input number from the user\n",
    "num = int(input(\"Enter a number: \"))\n",
    "\n",
    "# Check if the number is divisible by 5\n",
    "if num % 5 == 0:\n",
    "    print(f\"{num} is divisible by 5.\")\n",
    "else:\n",
    "    print(f\"{num} is not divisible by 5.\")\n"
   ]
  },
  {
   "cell_type": "markdown",
   "id": "e64e5d63",
   "metadata": {},
   "source": [
    "## Temperature Converter (Celsius to Fahrenheit)"
   ]
  },
  {
   "cell_type": "code",
   "execution_count": null,
   "id": "eff78743",
   "metadata": {},
   "outputs": [],
   "source": [
    "\n",
    "# Input temperature from the user\n",
    "temp_celsius = float(input(\"Enter temperature in Celsius: \"))\n",
    "\n",
    "# Convert to Fahrenheit\n",
    "temp_fahrenheit = (temp_celsius * 9/5) + 32\n",
    "\n",
    "# Print the result\n",
    "print(f\"{temp_celsius}°C is equal to {temp_fahrenheit}°F.\")\n"
   ]
  },
  {
   "cell_type": "markdown",
   "id": "b85d67e4",
   "metadata": {},
   "source": [
    "## Age Category"
   ]
  },
  {
   "cell_type": "code",
   "execution_count": null,
   "id": "2010aece",
   "metadata": {},
   "outputs": [],
   "source": [
    "\n",
    "# Input age from the user\n",
    "age = int(input(\"Enter your age: \"))\n",
    "\n",
    "# Check the age category\n",
    "if age < 13:\n",
    "    print(\"You are a child.\")\n",
    "elif 13 <= age <= 19:\n",
    "    print(\"You are a teenager.\")\n",
    "elif 20 <= age <= 59:\n",
    "    print(\"You are an adult.\")\n",
    "else:\n",
    "    print(\"You are a senior.\")\n"
   ]
  },
  {
   "cell_type": "code",
   "execution_count": null,
   "id": "36960b18",
   "metadata": {},
   "outputs": [],
   "source": []
  },
  {
   "cell_type": "markdown",
   "id": "6b62adc4",
   "metadata": {},
   "source": [
    "# Simple Calculator "
   ]
  },
  {
   "cell_type": "code",
   "execution_count": null,
   "id": "0175fb08",
   "metadata": {},
   "outputs": [],
   "source": [
    "# Input from the user\n",
    "print(\"Welcome to the Simple Calculator!\")\n",
    "num1 = float(input(\"Enter the first number: \"))\n",
    "num2 = float(input(\"Enter the second number: \"))\n",
    "operation = input(\"Enter an operation (+, -, *, /): \")\n",
    "\n",
    "# Perform the calculation directly\n",
    "if operation == '+':\n",
    "    result = num1 + num2\n",
    "    print(f\"The result of {num1} + {num2} is {result}\")\n",
    "elif operation == '-':\n",
    "    result = num1 - num2\n",
    "    print(f\"The result of {num1} - {num2} is {result}\")\n",
    "elif operation == '*':\n",
    "    result = num1 * num2\n",
    "    print(f\"The result of {num1} * {num2} is {result}\")\n",
    "elif operation == '/':\n",
    "    if num2 != 0:\n",
    "        result = num1 / num2\n",
    "        print(f\"The result of {num1} / {num2} is {result}\")\n",
    "    else:\n",
    "        print(\"Error: Division by zero is not allowed.\")\n",
    "else:\n",
    "    print(\"Invalid operation.\")\n"
   ]
  },
  {
   "cell_type": "markdown",
   "id": "e157a73f",
   "metadata": {},
   "source": [
    "## Write a program to print greater number among 2 numbers "
   ]
  },
  {
   "cell_type": "code",
   "execution_count": 6,
   "id": "a90693e0",
   "metadata": {},
   "outputs": [
    {
     "name": "stdout",
     "output_type": "stream",
     "text": [
      "The greater number is 12.0.\n"
     ]
    }
   ],
   "source": [
    "# Input two numbers\n",
    "num1 = float(input(\"Enter the first number: \"))\n",
    "num2 = float(input(\"Enter the second number: \"))\n",
    "\n",
    "# Find and print the greater number\n",
    "if num1 > num2:\n",
    "    print(f\"The greater number is {num1}.\")\n",
    "elif num2 > num1:\n",
    "    print(f\"The greater number is {num2}.\")\n",
    "else:\n",
    "    print(\"Both numbers are equal.\")\n"
   ]
  },
  {
   "cell_type": "markdown",
   "id": "cda8ff31",
   "metadata": {},
   "source": []
  },
  {
   "cell_type": "markdown",
   "id": "b5249be8",
   "metadata": {},
   "source": [
    "## Write a program to print greatest number among 3 numbers"
   ]
  },
  {
   "cell_type": "code",
   "execution_count": 8,
   "id": "a078e986",
   "metadata": {},
   "outputs": [
    {
     "ename": "ValueError",
     "evalue": "could not convert string to float: ''",
     "output_type": "error",
     "traceback": [
      "\u001b[1;31m---------------------------------------------------------------------------\u001b[0m",
      "\u001b[1;31mValueError\u001b[0m                                Traceback (most recent call last)",
      "Cell \u001b[1;32mIn[8], line 4\u001b[0m\n\u001b[0;32m      2\u001b[0m num1 \u001b[38;5;241m=\u001b[39m \u001b[38;5;28mfloat\u001b[39m(\u001b[38;5;28minput\u001b[39m(\u001b[38;5;124m\"\u001b[39m\u001b[38;5;124mEnter the first number: \u001b[39m\u001b[38;5;124m\"\u001b[39m))\n\u001b[0;32m      3\u001b[0m num2 \u001b[38;5;241m=\u001b[39m \u001b[38;5;28mfloat\u001b[39m(\u001b[38;5;28minput\u001b[39m(\u001b[38;5;124m\"\u001b[39m\u001b[38;5;124mEnter the second number: \u001b[39m\u001b[38;5;124m\"\u001b[39m))\n\u001b[1;32m----> 4\u001b[0m num3 \u001b[38;5;241m=\u001b[39m \u001b[38;5;28;43mfloat\u001b[39;49m\u001b[43m(\u001b[49m\u001b[38;5;28;43minput\u001b[39;49m\u001b[43m(\u001b[49m\u001b[38;5;124;43m\"\u001b[39;49m\u001b[38;5;124;43mEnter the third number: \u001b[39;49m\u001b[38;5;124;43m\"\u001b[39;49m\u001b[43m)\u001b[49m\u001b[43m)\u001b[49m\n\u001b[0;32m      6\u001b[0m \u001b[38;5;66;03m# Determine and print the greatest number\u001b[39;00m\n\u001b[0;32m      7\u001b[0m \u001b[38;5;28;01mif\u001b[39;00m num1 \u001b[38;5;241m>\u001b[39m num2 \u001b[38;5;129;01mand\u001b[39;00m num1 \u001b[38;5;241m>\u001b[39m num3:\n",
      "\u001b[1;31mValueError\u001b[0m: could not convert string to float: ''"
     ]
    }
   ],
   "source": [
    "# Input three numbers\n",
    "num1 = float(input(\"Enter the first number: \"))\n",
    "num2 = float(input(\"Enter the second number: \"))\n",
    "num3 = float(input(\"Enter the third number: \"))\n",
    "\n",
    "# Determine and print the greatest number\n",
    "if num1 > num2 and num1 > num3:\n",
    "    print(f\"The greatest number is {num1}.\")\n",
    "elif num2 > num1 and num2 > num3:\n",
    "    print(f\"The greatest number is {num2}.\")\n",
    "elif num3 > num1 and num3 > num2:\n",
    "    print(f\"The greatest number is {num3}.\")\n",
    "else:\n",
    "    print(\"Two or more numbers are equal and the greatest.\")\n"
   ]
  },
  {
   "cell_type": "code",
   "execution_count": null,
   "id": "c7385dd7",
   "metadata": {},
   "outputs": [],
   "source": [
    "import random\n",
    "\n",
    "# Step 1: Welcome message\n",
    "print(\"Welcome to the Number Guessing Game!\")\n",
    "\n",
    "# Step 2: Generate a random number\n",
    "number_to_guess = random.randint(1, 10)\n",
    "\n",
    "# Step 3: Loop for three guesses\n",
    "for attempt in range(3):  # You get 3 attempts\n",
    "    guess = int(input(\"Guess a number between 1 and 10: \"))\n",
    "    if guess == number_to_guess:\n",
    "        print(\"Congratulations! You guessed it right.\")\n",
    "        break\n",
    "    elif guess < number_to_guess:\n",
    "        print(\"Too low!\")\n",
    "    else:\n",
    "        print(\"Too high!\")\n",
    "else:\n",
    "    print(f\"Sorry, the correct number was {number_to_guess}.\")\n"
   ]
  },
  {
   "cell_type": "code",
   "execution_count": null,
   "id": "e24348e3",
   "metadata": {},
   "outputs": [],
   "source": []
  },
  {
   "cell_type": "markdown",
   "id": "e7a27a5e",
   "metadata": {},
   "source": [
    "Assignments\n",
    "\n",
    "1. Check Leap Year\n",
    "Write a Python program that asks the user to enter a year and checks whether it is a leap year or not.\n",
    "Hint: A leap year is divisible by 4 but not divisible by 100 unless it is also divisible by 400.\n",
    "\n",
    "\n",
    "2. Check Multiple of 10\n",
    "Write a Python program that asks the user to enter a number and checks whether the number is a multiple of 10.\n",
    "\n",
    "\n",
    "3. Check Eligibility to Vote\n",
    "Write a Python program that asks the user to enter their age and checks if they are eligible to vote (age 18 or older).\n",
    "\n",
    "4. Check Pass or Fail\n",
    "Write a Python program that asks the user to enter their marks and checks if they passed or failed. (Assume the passing marks are 40.)\n",
    "\n",
    "5. Compare Four Numbers\n",
    "Write a Python program that takes two numbers as input and prints whether the first number is greater than, less than, or equal to the rest of number.\n"
   ]
  },
  {
   "cell_type": "markdown",
   "id": "1167af1a",
   "metadata": {},
   "source": []
  },
  {
   "cell_type": "markdown",
   "id": "1c267ff3",
   "metadata": {},
   "source": []
  }
 ],
 "metadata": {
  "kernelspec": {
   "display_name": "Python 3",
   "language": "python",
   "name": "python3"
  },
  "language_info": {
   "codemirror_mode": {
    "name": "ipython",
    "version": 3
   },
   "file_extension": ".py",
   "mimetype": "text/x-python",
   "name": "python",
   "nbconvert_exporter": "python",
   "pygments_lexer": "ipython3",
   "version": "3.13.0"
  }
 },
 "nbformat": 4,
 "nbformat_minor": 5
}
